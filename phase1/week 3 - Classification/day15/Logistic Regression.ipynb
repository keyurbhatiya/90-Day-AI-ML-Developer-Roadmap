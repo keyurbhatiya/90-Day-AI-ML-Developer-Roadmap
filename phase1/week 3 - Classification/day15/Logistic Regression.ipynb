{
 "cells": [
  {
   "cell_type": "markdown",
   "id": "bc1d7a60",
   "metadata": {},
   "source": [
    "# Day 15: Logistic Regression\n",
    "\n",
    "Unlike Linear Regression (which predicts continuous values),  \n",
    "**Logistic Regression** is used for **classification problems** (e.g., Pass/Fail, Yes/No, Spam/Not Spam).\n",
    "\n",
    "---\n",
    "\n",
    "## Logistic Function (Sigmoid):\n",
    "It maps values between **0 and 1**.  \n",
    "\n",
    "σ(z) = 1 / (1 + e^(-z))  \n",
    "\n",
    "- If probability ≥ 0.5 → Class 1 (e.g., Pass)  \n",
    "- If probability < 0.5 → Class 0 (e.g., Fail)  \n",
    "\n",
    "---\n",
    "\n",
    "## Example: Predict Pass/Fail based on Study Hours\n"
   ]
  },
  {
   "cell_type": "code",
   "execution_count": 1,
   "id": "505e2fe1",
   "metadata": {},
   "outputs": [
    {
     "data": {
      "text/html": [
       "<div>\n",
       "<style scoped>\n",
       "    .dataframe tbody tr th:only-of-type {\n",
       "        vertical-align: middle;\n",
       "    }\n",
       "\n",
       "    .dataframe tbody tr th {\n",
       "        vertical-align: top;\n",
       "    }\n",
       "\n",
       "    .dataframe thead th {\n",
       "        text-align: right;\n",
       "    }\n",
       "</style>\n",
       "<table border=\"1\" class=\"dataframe\">\n",
       "  <thead>\n",
       "    <tr style=\"text-align: right;\">\n",
       "      <th></th>\n",
       "      <th>Hours_Studied</th>\n",
       "      <th>Result</th>\n",
       "    </tr>\n",
       "  </thead>\n",
       "  <tbody>\n",
       "    <tr>\n",
       "      <th>0</th>\n",
       "      <td>1</td>\n",
       "      <td>0</td>\n",
       "    </tr>\n",
       "    <tr>\n",
       "      <th>1</th>\n",
       "      <td>2</td>\n",
       "      <td>0</td>\n",
       "    </tr>\n",
       "    <tr>\n",
       "      <th>2</th>\n",
       "      <td>3</td>\n",
       "      <td>0</td>\n",
       "    </tr>\n",
       "    <tr>\n",
       "      <th>3</th>\n",
       "      <td>4</td>\n",
       "      <td>0</td>\n",
       "    </tr>\n",
       "    <tr>\n",
       "      <th>4</th>\n",
       "      <td>5</td>\n",
       "      <td>1</td>\n",
       "    </tr>\n",
       "    <tr>\n",
       "      <th>5</th>\n",
       "      <td>6</td>\n",
       "      <td>1</td>\n",
       "    </tr>\n",
       "    <tr>\n",
       "      <th>6</th>\n",
       "      <td>7</td>\n",
       "      <td>1</td>\n",
       "    </tr>\n",
       "    <tr>\n",
       "      <th>7</th>\n",
       "      <td>8</td>\n",
       "      <td>1</td>\n",
       "    </tr>\n",
       "    <tr>\n",
       "      <th>8</th>\n",
       "      <td>9</td>\n",
       "      <td>1</td>\n",
       "    </tr>\n",
       "    <tr>\n",
       "      <th>9</th>\n",
       "      <td>10</td>\n",
       "      <td>1</td>\n",
       "    </tr>\n",
       "  </tbody>\n",
       "</table>\n",
       "</div>"
      ],
      "text/plain": [
       "   Hours_Studied  Result\n",
       "0              1       0\n",
       "1              2       0\n",
       "2              3       0\n",
       "3              4       0\n",
       "4              5       1\n",
       "5              6       1\n",
       "6              7       1\n",
       "7              8       1\n",
       "8              9       1\n",
       "9             10       1"
      ]
     },
     "execution_count": 1,
     "metadata": {},
     "output_type": "execute_result"
    }
   ],
   "source": [
    "# Day 15: Logistic Regression\n",
    "import pandas as pd\n",
    "import numpy as np\n",
    "import matplotlib.pyplot as plt\n",
    "from sklearn.linear_model import LogisticRegression\n",
    "from sklearn.model_selection import train_test_split\n",
    "from sklearn.metrics import accuracy_score, confusion_matrix, classification_report\n",
    "\n",
    "# Example dataset\n",
    "data = {\n",
    "    \"Hours_Studied\": [1, 2, 3, 4, 5, 6, 7, 8, 9, 10],\n",
    "    \"Result\":        [0, 0, 0, 0, 1, 1, 1, 1, 1, 1]  # 0 = Fail, 1 = Pass\n",
    "}\n",
    "\n",
    "df = pd.DataFrame(data)\n",
    "df\n"
   ]
  },
  {
   "cell_type": "code",
   "execution_count": 2,
   "id": "461b9585",
   "metadata": {},
   "outputs": [],
   "source": [
    "# Features and target\n",
    "X = df[[\"Hours_Studied\"]]\n",
    "y = df[\"Result\"]\n",
    "\n",
    "# Train/Test Split\n",
    "X_train, X_test, y_train, y_test = train_test_split(\n",
    "    X, y, test_size=0.3, random_state=42\n",
    ")\n",
    "\n",
    "# Train Logistic Regression model\n",
    "model = LogisticRegression()\n",
    "model.fit(X_train, y_train)\n",
    "\n",
    "# Predictions\n",
    "y_pred = model.predict(X_test)\n",
    "y_prob = model.predict_proba(X_test)[:, 1]  # probability of passing\n"
   ]
  },
  {
   "cell_type": "code",
   "execution_count": 3,
   "id": "47b36b2d",
   "metadata": {},
   "outputs": [
    {
     "name": "stdout",
     "output_type": "stream",
     "text": [
      "Accuracy: 1.0\n",
      "\n",
      "Confusion Matrix:\n",
      " [[1 0]\n",
      " [0 2]]\n",
      "\n",
      "Classification Report:\n",
      "               precision    recall  f1-score   support\n",
      "\n",
      "           0       1.00      1.00      1.00         1\n",
      "           1       1.00      1.00      1.00         2\n",
      "\n",
      "    accuracy                           1.00         3\n",
      "   macro avg       1.00      1.00      1.00         3\n",
      "weighted avg       1.00      1.00      1.00         3\n",
      "\n"
     ]
    }
   ],
   "source": [
    "# Evaluation\n",
    "print(\"Accuracy:\", accuracy_score(y_test, y_pred))\n",
    "print(\"\\nConfusion Matrix:\\n\", confusion_matrix(y_test, y_pred))\n",
    "print(\"\\nClassification Report:\\n\", classification_report(y_test, y_pred))\n"
   ]
  },
  {
   "cell_type": "code",
   "execution_count": 4,
   "id": "5a49bfe2",
   "metadata": {},
   "outputs": [
    {
     "data": {
      "image/png": "[encoded data removed]",
      "text/plain": [
       "<Figure size 640x480 with 1 Axes>"
      ]
     },
     "metadata": {},
     "output_type": "display_data"
    }
   ],
   "source": [
    "# Visualization\n",
    "plt.scatter(X, y, color=\"blue\", label=\"Actual Data\")\n",
    "plt.plot(X, model.predict_proba(X)[:,1], color=\"red\", label=\"Logistic Curve\")\n",
    "plt.xlabel(\"Hours Studied\")\n",
    "plt.ylabel(\"Probability of Passing\")\n",
    "plt.title(\"Logistic Regression - Pass/Fail Prediction\")\n",
    "plt.legend()\n",
    "plt.show()\n"
   ]
  },
  {
   "cell_type": "code",
   "execution_count": 5,
   "id": "2dcb80a1",
   "metadata": {},
   "outputs": [
    {
     "name": "stdout",
     "output_type": "stream",
     "text": [
      "Predicted Result: Fail\n",
      "Probability of Passing: 0.47\n"
     ]
    }
   ],
   "source": [
    "# Predict if a student will pass with 4.5 hours of study\n",
    "new_hours = pd.DataFrame({\"Hours_Studied\": [4.5]})\n",
    "prediction = model.predict(new_hours)[0]\n",
    "probability = model.predict_proba(new_hours)[0][1]\n",
    "\n",
    "print(f\"Predicted Result: {'Pass' if prediction==1 else 'Fail'}\")\n",
    "print(f\"Probability of Passing: {probability:.2f}\")\n"
   ]
  },
  {
   "cell_type": "markdown",
   "id": "de84d2da",
   "metadata": {},
   "source": [
    "### ✅ Key Points:\n",
    "- Logistic Regression is for **binary classification**.  \n",
    "- Output is probability (0–1), converted into class labels.  \n",
    "- Evaluation uses **accuracy, confusion matrix, precision, recall, F1-score**.  \n"
   ]
  }
 ],
 "metadata": {
  "kernelspec": {
   "display_name": "Python 3",
   "language": "python",
   "name": "python3"
  },
  "language_info": {
   "codemirror_mode": {
    "name": "ipython",
    "version": 3
   },
   "file_extension": ".py",
   "mimetype": "text/x-python",
   "name": "python",
   "nbconvert_exporter": "python",
   "pygments_lexer": "ipython3",
   "version": "3.11.9"
  }
 },
 "nbformat": 4,
 "nbformat_minor": 5
}
