{
 "cells": [
  {
   "cell_type": "markdown",
   "id": "68f698a1",
   "metadata": {},
   "source": [
    "# Day 19: Naive Bayes 🧠\n",
    "\n",
    "## What is Naive Bayes?\n",
    "- Probabilistic classifier based on **Bayes’ Theorem**:\n",
    "  \n",
    "  **P(A|B) = P(B|A) * P(A) / P(B)**\n",
    "\n",
    "- “Naive” assumption: **features are independent**.  \n",
    "- Works well for **text classification, spam detection, medical diagnosis**, etc.\n",
    "\n",
    "### Types of Naive Bayes:\n",
    "1. **GaussianNB** → For continuous data (assumes Gaussian distribution)  \n",
    "2. **MultinomialNB** → For count data (e.g., word counts)  \n",
    "3. **BernoulliNB** → For binary features\n"
   ]
  },
  {
   "cell_type": "code",
   "execution_count": 4,
   "id": "52a5fce1",
   "metadata": {},
   "outputs": [],
   "source": [
    "# Import libraries\n",
    "import pandas as pd\n",
    "from sklearn.model_selection import train_test_split\n",
    "from sklearn.naive_bayes import GaussianNB, MultinomialNB, BernoulliNB\n",
    "from sklearn.metrics import accuracy_score, confusion_matrix, classification_report\n",
    "from sklearn.preprocessing import LabelEncoder\n"
   ]
  },
  {
   "cell_type": "markdown",
   "id": "fc068023",
   "metadata": {},
   "source": [
    "## Example Dataset: Iris 🌸 (Continuous Data → GaussianNB)\n"
   ]
  },
  {
   "cell_type": "code",
   "execution_count": 5,
   "id": "b972f11c",
   "metadata": {},
   "outputs": [],
   "source": [
    "from sklearn.datasets import load_iris\n",
    "\n",
    "# Load dataset\n",
    "iris = load_iris()\n",
    "X = iris.data\n",
    "y = iris.target\n",
    "\n",
    "# Train-test split\n",
    "X_train, X_test, y_train, y_test = train_test_split(X, y, test_size=0.3, random_state=42, stratify=y)\n"
   ]
  },
  {
   "cell_type": "markdown",
   "id": "a8383156",
   "metadata": {},
   "source": [
    "## Train Gaussian Naive Bayes Model\n"
   ]
  },
  {
   "cell_type": "code",
   "execution_count": 6,
   "id": "92fdec47",
   "metadata": {},
   "outputs": [],
   "source": [
    "gnb = GaussianNB()\n",
    "gnb.fit(X_train, y_train)\n",
    "\n",
    "# Predict\n",
    "y_pred = gnb.predict(X_test)\n"
   ]
  },
  {
   "cell_type": "markdown",
   "id": "d7e95f9b",
   "metadata": {},
   "source": [
    "## Model Evaluation 📊\n"
   ]
  },
  {
   "cell_type": "code",
   "execution_count": 7,
   "id": "cf37c76d",
   "metadata": {},
   "outputs": [
    {
     "name": "stdout",
     "output_type": "stream",
     "text": [
      "Accuracy: 0.9111111111111111\n",
      "\n",
      "Classification Report:\n",
      "               precision    recall  f1-score   support\n",
      "\n",
      "           0       1.00      1.00      1.00        15\n",
      "           1       0.82      0.93      0.88        15\n",
      "           2       0.92      0.80      0.86        15\n",
      "\n",
      "    accuracy                           0.91        45\n",
      "   macro avg       0.92      0.91      0.91        45\n",
      "weighted avg       0.92      0.91      0.91        45\n",
      "\n"
     ]
    },
    {
     "data": {
      "image/png": "[encoded data removed]",
      "text/plain": [
       "<Figure size 600x400 with 2 Axes>"
      ]
     },
     "metadata": {},
     "output_type": "display_data"
    }
   ],
   "source": [
    "print(\"Accuracy:\", accuracy_score(y_test, y_pred))\n",
    "print(\"\\nClassification Report:\\n\", classification_report(y_test, y_pred))\n",
    "\n",
    "# Confusion Matrix\n",
    "import matplotlib.pyplot as plt\n",
    "import seaborn as sns\n",
    "\n",
    "plt.figure(figsize=(6,4))\n",
    "sns.heatmap(confusion_matrix(y_test, y_pred), annot=True, fmt='d', cmap=\"Blues\")\n",
    "plt.title(\"Gaussian Naive Bayes Confusion Matrix\")\n",
    "plt.show()\n"
   ]
  },
  {
   "cell_type": "markdown",
   "id": "3e971552",
   "metadata": {},
   "source": [
    "## Example: Text Classification (MultinomialNB)\n"
   ]
  },
  {
   "cell_type": "code",
   "execution_count": 8,
   "id": "cc7473d5",
   "metadata": {},
   "outputs": [
    {
     "name": "stdout",
     "output_type": "stream",
     "text": [
      "Text Classification Accuracy: 0.0\n"
     ]
    }
   ],
   "source": [
    "# Sample text dataset\n",
    "data = pd.DataFrame({\n",
    "    \"Text\": [\n",
    "        \"I love this product\", \n",
    "        \"This is a great movie\", \n",
    "        \"I hate this item\", \n",
    "        \"Terrible experience\", \n",
    "        \"Amazing and fantastic\", \n",
    "        \"Worst purchase ever\"\n",
    "    ],\n",
    "    \"Label\": [\"Positive\", \"Positive\", \"Negative\", \"Negative\", \"Positive\", \"Negative\"]\n",
    "})\n",
    "\n",
    "# Encode labels\n",
    "le = LabelEncoder()\n",
    "data[\"Label_enc\"] = le.fit_transform(data[\"Label\"])\n",
    "\n",
    "# Feature extraction (Bag of Words)\n",
    "from sklearn.feature_extraction.text import CountVectorizer\n",
    "cv = CountVectorizer()\n",
    "X_text = cv.fit_transform(data[\"Text\"])\n",
    "y_text = data[\"Label_enc\"]\n",
    "\n",
    "# Train-test split\n",
    "X_train_txt, X_test_txt, y_train_txt, y_test_txt = train_test_split(X_text, y_text, test_size=0.3, random_state=42)\n",
    "\n",
    "# Train MultinomialNB\n",
    "mnb = MultinomialNB()\n",
    "mnb.fit(X_train_txt, y_train_txt)\n",
    "y_pred_txt = mnb.predict(X_test_txt)\n",
    "\n",
    "print(\"Text Classification Accuracy:\", accuracy_score(y_test_txt, y_pred_txt))\n"
   ]
  },
  {
   "cell_type": "markdown",
   "id": "dc385c79",
   "metadata": {},
   "source": [
    "### 🔑 Key Takeaways\n",
    "- Naive Bayes is **fast, simple, and effective**, especially for **high-dimensional data**.\n",
    "- GaussianNB → Continuous features  \n",
    "- MultinomialNB → Count features (text)  \n",
    "- BernoulliNB → Binary features (yes/no)  \n",
    "- Assumes feature independence → works surprisingly well even if assumption is not fully true.\n"
   ]
  }
 ],
 "metadata": {
  "kernelspec": {
   "display_name": "Python 3",
   "language": "python",
   "name": "python3"
  },
  "language_info": {
   "codemirror_mode": {
    "name": "ipython",
    "version": 3
   },
   "file_extension": ".py",
   "mimetype": "text/x-python",
   "name": "python",
   "nbconvert_exporter": "python",
   "pygments_lexer": "ipython3",
   "version": "3.11.9"
  }
 },
 "nbformat": 4,
 "nbformat_minor": 5
}
