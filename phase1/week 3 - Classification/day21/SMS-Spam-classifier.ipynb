{
 "cells": [
  {
   "cell_type": "markdown",
   "id": "c785216d",
   "metadata": {},
   "source": [
    "# Day 21: Mini Project – Spam/Email Classifier 📧\n",
    "\n",
    "### Objective:\n",
    "Build a classifier to detect **spam vs ham (not spam)** emails using **Naive Bayes**.\n",
    "\n",
    "### Steps:\n",
    "1. Load dataset\n",
    "2. Explore data\n",
    "3. Preprocess text\n",
    "4. Convert text to features (Bag of Words / TF-IDF)\n",
    "5. Train-test split\n",
    "6. Train Naive Bayes classifier\n",
    "7. Evaluate model\n",
    "8. Predict new emails\n"
   ]
  },
  {
   "cell_type": "code",
   "execution_count": 1,
   "id": "c2bad6c2",
   "metadata": {},
   "outputs": [],
   "source": [
    "# 1. Import libraries\n",
    "import pandas as pd\n",
    "import numpy as np\n",
    "import matplotlib.pyplot as plt\n",
    "import seaborn as sns\n",
    "\n",
    "from sklearn.model_selection import train_test_split\n",
    "from sklearn.feature_extraction.text import CountVectorizer, TfidfVectorizer\n",
    "from sklearn.naive_bayes import MultinomialNB\n",
    "from sklearn.metrics import accuracy_score, confusion_matrix, classification_report\n"
   ]
  },
  {
   "cell_type": "markdown",
   "id": "d4d4f646",
   "metadata": {},
   "source": [
    "## 2. Load Dataset\n",
    "\n",
    "We can use the classic **SMS Spam Collection Dataset** (small, easy for demo).  \n",
    "\n",
    "- Columns: `label` (spam/ham), `message` (text)\n"
   ]
  },
  {
   "cell_type": "code",
   "execution_count": 2,
   "id": "b42b8498",
   "metadata": {},
   "outputs": [
    {
     "data": {
      "text/html": [
       "<div>\n",
       "<style scoped>\n",
       "    .dataframe tbody tr th:only-of-type {\n",
       "        vertical-align: middle;\n",
       "    }\n",
       "\n",
       "    .dataframe tbody tr th {\n",
       "        vertical-align: top;\n",
       "    }\n",
       "\n",
       "    .dataframe thead th {\n",
       "        text-align: right;\n",
       "    }\n",
       "</style>\n",
       "<table border=\"1\" class=\"dataframe\">\n",
       "  <thead>\n",
       "    <tr style=\"text-align: right;\">\n",
       "      <th></th>\n",
       "      <th>label</th>\n",
       "      <th>message</th>\n",
       "    </tr>\n",
       "  </thead>\n",
       "  <tbody>\n",
       "    <tr>\n",
       "      <th>0</th>\n",
       "      <td>ham</td>\n",
       "      <td>Go until jurong point, crazy.. Available only ...</td>\n",
       "    </tr>\n",
       "    <tr>\n",
       "      <th>1</th>\n",
       "      <td>ham</td>\n",
       "      <td>Ok lar... Joking wif u oni...</td>\n",
       "    </tr>\n",
       "    <tr>\n",
       "      <th>2</th>\n",
       "      <td>spam</td>\n",
       "      <td>Free entry in 2 a wkly comp to win FA Cup fina...</td>\n",
       "    </tr>\n",
       "    <tr>\n",
       "      <th>3</th>\n",
       "      <td>ham</td>\n",
       "      <td>U dun say so early hor... U c already then say...</td>\n",
       "    </tr>\n",
       "    <tr>\n",
       "      <th>4</th>\n",
       "      <td>ham</td>\n",
       "      <td>Nah I don't think he goes to usf, he lives aro...</td>\n",
       "    </tr>\n",
       "  </tbody>\n",
       "</table>\n",
       "</div>"
      ],
      "text/plain": [
       "  label                                            message\n",
       "0   ham  Go until jurong point, crazy.. Available only ...\n",
       "1   ham                      Ok lar... Joking wif u oni...\n",
       "2  spam  Free entry in 2 a wkly comp to win FA Cup fina...\n",
       "3   ham  U dun say so early hor... U c already then say...\n",
       "4   ham  Nah I don't think he goes to usf, he lives aro..."
      ]
     },
     "execution_count": 2,
     "metadata": {},
     "output_type": "execute_result"
    }
   ],
   "source": [
    "# Load dataset\n",
    "url = \"https://raw.githubusercontent.com/justmarkham/pycon-2016-tutorial/master/data/sms.tsv\"\n",
    "df = pd.read_csv(url, sep='\\t', header=None, names=['label','message'])\n",
    "\n",
    "df.head()\n"
   ]
  },
  {
   "cell_type": "markdown",
   "id": "2009366c",
   "metadata": {},
   "source": [
    "## 3. Explore Data\n"
   ]
  },
  {
   "cell_type": "code",
   "execution_count": 3,
   "id": "9a52489f",
   "metadata": {},
   "outputs": [
    {
     "data": {
      "image/png": "[encoded data removed]",
      "text/plain": [
       "<Figure size 640x480 with 1 Axes>"
      ]
     },
     "metadata": {},
     "output_type": "display_data"
    },
    {
     "name": "stdout",
     "output_type": "stream",
     "text": [
      "label\n",
      "ham     4825\n",
      "spam     747\n",
      "Name: count, dtype: int64\n"
     ]
    }
   ],
   "source": [
    "# Count spam vs ham\n",
    "sns.countplot(x='label', data=df)\n",
    "plt.title(\"Spam vs Ham Count\")\n",
    "plt.show()\n",
    "\n",
    "print(df['label'].value_counts())\n"
   ]
  },
  {
   "cell_type": "markdown",
   "id": "ec83d2ad",
   "metadata": {},
   "source": [
    "## 4. Preprocess Text\n",
    "- Convert text to lowercase\n",
    "- Remove punctuation (optional)\n"
   ]
  },
  {
   "cell_type": "code",
   "execution_count": 4,
   "id": "fe5b546c",
   "metadata": {},
   "outputs": [
    {
     "data": {
      "text/html": [
       "<div>\n",
       "<style scoped>\n",
       "    .dataframe tbody tr th:only-of-type {\n",
       "        vertical-align: middle;\n",
       "    }\n",
       "\n",
       "    .dataframe tbody tr th {\n",
       "        vertical-align: top;\n",
       "    }\n",
       "\n",
       "    .dataframe thead th {\n",
       "        text-align: right;\n",
       "    }\n",
       "</style>\n",
       "<table border=\"1\" class=\"dataframe\">\n",
       "  <thead>\n",
       "    <tr style=\"text-align: right;\">\n",
       "      <th></th>\n",
       "      <th>label</th>\n",
       "      <th>message</th>\n",
       "      <th>clean_message</th>\n",
       "    </tr>\n",
       "  </thead>\n",
       "  <tbody>\n",
       "    <tr>\n",
       "      <th>0</th>\n",
       "      <td>ham</td>\n",
       "      <td>Go until jurong point, crazy.. Available only ...</td>\n",
       "      <td>go until jurong point crazy available only in ...</td>\n",
       "    </tr>\n",
       "    <tr>\n",
       "      <th>1</th>\n",
       "      <td>ham</td>\n",
       "      <td>Ok lar... Joking wif u oni...</td>\n",
       "      <td>ok lar joking wif u oni</td>\n",
       "    </tr>\n",
       "    <tr>\n",
       "      <th>2</th>\n",
       "      <td>spam</td>\n",
       "      <td>Free entry in 2 a wkly comp to win FA Cup fina...</td>\n",
       "      <td>free entry in 2 a wkly comp to win fa cup fina...</td>\n",
       "    </tr>\n",
       "    <tr>\n",
       "      <th>3</th>\n",
       "      <td>ham</td>\n",
       "      <td>U dun say so early hor... U c already then say...</td>\n",
       "      <td>u dun say so early hor u c already then say</td>\n",
       "    </tr>\n",
       "    <tr>\n",
       "      <th>4</th>\n",
       "      <td>ham</td>\n",
       "      <td>Nah I don't think he goes to usf, he lives aro...</td>\n",
       "      <td>nah i dont think he goes to usf he lives aroun...</td>\n",
       "    </tr>\n",
       "  </tbody>\n",
       "</table>\n",
       "</div>"
      ],
      "text/plain": [
       "  label                                            message  \\\n",
       "0   ham  Go until jurong point, crazy.. Available only ...   \n",
       "1   ham                      Ok lar... Joking wif u oni...   \n",
       "2  spam  Free entry in 2 a wkly comp to win FA Cup fina...   \n",
       "3   ham  U dun say so early hor... U c already then say...   \n",
       "4   ham  Nah I don't think he goes to usf, he lives aro...   \n",
       "\n",
       "                                       clean_message  \n",
       "0  go until jurong point crazy available only in ...  \n",
       "1                            ok lar joking wif u oni  \n",
       "2  free entry in 2 a wkly comp to win fa cup fina...  \n",
       "3        u dun say so early hor u c already then say  \n",
       "4  nah i dont think he goes to usf he lives aroun...  "
      ]
     },
     "execution_count": 4,
     "metadata": {},
     "output_type": "execute_result"
    }
   ],
   "source": [
    "import string\n",
    "\n",
    "def preprocess_text(text):\n",
    "    text = text.lower()\n",
    "    text = text.translate(str.maketrans('', '', string.punctuation))\n",
    "    return text\n",
    "\n",
    "df['clean_message'] = df['message'].apply(preprocess_text)\n",
    "df.head()\n"
   ]
  },
  {
   "cell_type": "markdown",
   "id": "dbb1ee30",
   "metadata": {},
   "source": [
    "## 5. Feature Extraction\n",
    "- Convert text to numerical features using **CountVectorizer** (Bag of Words)\n"
   ]
  },
  {
   "cell_type": "code",
   "execution_count": 5,
   "id": "2417bd28",
   "metadata": {},
   "outputs": [],
   "source": [
    "cv = CountVectorizer()\n",
    "X = cv.fit_transform(df['clean_message'])\n",
    "y = df['label']\n"
   ]
  },
  {
   "cell_type": "markdown",
   "id": "94b52a46",
   "metadata": {},
   "source": [
    "## 6. Train-Test Split\n"
   ]
  },
  {
   "cell_type": "code",
   "execution_count": 6,
   "id": "89a4ffa5",
   "metadata": {},
   "outputs": [],
   "source": [
    "X_train, X_test, y_train, y_test = train_test_split(X, y, test_size=0.2, random_state=42, stratify=y)\n"
   ]
  },
  {
   "cell_type": "markdown",
   "id": "9b16970b",
   "metadata": {},
   "source": [
    "## 7. Train Naive Bayes Classifier\n"
   ]
  },
  {
   "cell_type": "code",
   "execution_count": 7,
   "id": "fa6e4b90",
   "metadata": {},
   "outputs": [],
   "source": [
    "model = MultinomialNB()\n",
    "model.fit(X_train, y_train)\n",
    "\n",
    "y_pred = model.predict(X_test)\n"
   ]
  },
  {
   "cell_type": "markdown",
   "id": "59245606",
   "metadata": {},
   "source": [
    "## 8. Evaluate Model\n"
   ]
  },
  {
   "cell_type": "code",
   "execution_count": 8,
   "id": "2ccc48f6",
   "metadata": {},
   "outputs": [
    {
     "name": "stdout",
     "output_type": "stream",
     "text": [
      "Accuracy: 0.979372197309417\n",
      "\n",
      "Classification Report:\n",
      "               precision    recall  f1-score   support\n",
      "\n",
      "         ham       0.99      0.99      0.99       966\n",
      "        spam       0.91      0.93      0.92       149\n",
      "\n",
      "    accuracy                           0.98      1115\n",
      "   macro avg       0.95      0.96      0.96      1115\n",
      "weighted avg       0.98      0.98      0.98      1115\n",
      "\n"
     ]
    },
    {
     "data": {
      "image/png": "[encoded data removed]",
      "text/plain": [
       "<Figure size 600x400 with 2 Axes>"
      ]
     },
     "metadata": {},
     "output_type": "display_data"
    }
   ],
   "source": [
    "print(\"Accuracy:\", accuracy_score(y_test, y_pred))\n",
    "print(\"\\nClassification Report:\\n\", classification_report(y_test, y_pred))\n",
    "\n",
    "plt.figure(figsize=(6,4))\n",
    "sns.heatmap(confusion_matrix(y_test, y_pred), annot=True, fmt='d', cmap=\"Blues\")\n",
    "plt.title(\"Confusion Matrix\")\n",
    "plt.show()\n"
   ]
  },
  {
   "cell_type": "markdown",
   "id": "545729e3",
   "metadata": {},
   "source": [
    "## 9. Predict New Emails\n"
   ]
  },
  {
   "cell_type": "code",
   "execution_count": 16,
   "id": "8211365a",
   "metadata": {},
   "outputs": [
    {
     "name": "stdout",
     "output_type": "stream",
     "text": [
      "Message: Congratulations! You won a free iPhone!\n",
      "Predicted: spam\n",
      "\n",
      "Message: Hi friend, are we meeting tomorrow?\n",
      "Predicted: ham\n",
      "\n",
      "Message: Claim your free lottery prize now\n",
      "Predicted: spam\n",
      "\n",
      "Message: Don't forget our lunch appointment at 1 PM.\n",
      "Predicted: ham\n",
      "\n",
      "Message: welcome to the new world of crypto investment click here to join now\n",
      "Predicted: spam\n",
      "\n",
      "Message: Hey, just checking in to see how you're doing.\n",
      "Predicted: ham\n",
      "\n",
      "Message: Limited time offer! Get 50% off on all products.\n",
      "Predicted: ham\n",
      "\n",
      "Message: Can you send me the report by tonight?\n",
      "Predicted: ham\n",
      "\n",
      "Message: URGENT! Your account has been compromised. Click here to secure it.\n",
      "Predicted: spam\n",
      "\n"
     ]
    }
   ],
   "source": [
    "new_emails = [\"Congratulations! You won a free iPhone!\", \n",
    "              \"Hi friend, are we meeting tomorrow?\", \n",
    "              \"Claim your free lottery prize now\",\n",
    "              \"Don't forget our lunch appointment at 1 PM.\",\n",
    "              \"welcome to the new world of crypto investment click here to join now\",\n",
    "              \"Hey, just checking in to see how you're doing.\",\n",
    "              \"Limited time offer! Get 50% off on all products.\",\n",
    "              \"Can you send me the report by tonight?\",\n",
    "              \"URGENT! Your account has been compromised. Click here to secure it.\",]\n",
    "\n",
    "# Preprocess\n",
    "new_emails_clean = [preprocess_text(msg) for msg in new_emails]\n",
    "\n",
    "# Convert to features\n",
    "new_X = cv.transform(new_emails_clean)\n",
    "\n",
    "# Predict\n",
    "predictions = model.predict(new_X)\n",
    "for msg, label in zip(new_emails, predictions):\n",
    "    print(f\"Message: {msg}\\nPredicted: {label}\\n\")\n"
   ]
  },
  {
   "cell_type": "markdown",
   "id": "157a28cb",
   "metadata": {},
   "source": [
    "### 🔑 Key Takeaways:\n",
    "- Text data must be **cleaned and vectorized** before ML.\n",
    "- **Naive Bayes** works well for spam classification.\n",
    "- Bag of Words or TF-IDF can be used as features.\n",
    "- Accuracy can be improved with better preprocessing (stopwords removal, stemming, n-grams).\n"
   ]
  }
 ],
 "metadata": {
  "kernelspec": {
   "display_name": "Python 3",
   "language": "python",
   "name": "python3"
  },
  "language_info": {
   "codemirror_mode": {
    "name": "ipython",
    "version": 3
   },
   "file_extension": ".py",
   "mimetype": "text/x-python",
   "name": "python",
   "nbconvert_exporter": "python",
   "pygments_lexer": "ipython3",
   "version": "3.11.9"
  }
 },
 "nbformat": 4,
 "nbformat_minor": 5
}
