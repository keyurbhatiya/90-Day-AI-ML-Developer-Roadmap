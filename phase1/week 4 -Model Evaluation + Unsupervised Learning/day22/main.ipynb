{
 "cells": [
  {
   "cell_type": "markdown",
   "id": "e95bcd91",
   "metadata": {},
   "source": [
    "# Day 22: Confusion Matrix, Precision, Recall, F1-score 📊\n",
    "\n",
    "### Objective:\n",
    "Understand **classification metrics** for evaluating ML models.\n",
    "\n",
    "- **Confusion Matrix**: Table showing correct and incorrect predictions.\n",
    "- **Precision**: How many predicted positives are actually positive.  \n",
    "- **Recall (Sensitivity)**: How many actual positives were correctly predicted.  \n",
    "- **F1-score**: Harmonic mean of precision and recall.\n",
    "\n",
    "### Metrics Definitions:\n",
    "\n",
    "| Metric      | Formula |\n",
    "|------------|---------|\n",
    "| Accuracy    | (TP + TN) / (TP + TN + FP + FN) |\n",
    "| Precision  | TP / (TP + FP) |\n",
    "| Recall     | TP / (TP + FN) |\n",
    "| F1-score   | 2 * (Precision * Recall) / (Precision + Recall) |\n",
    "\n",
    "Where:  \n",
    "- TP = True Positive  \n",
    "- TN = True Negative  \n",
    "- FP = False Positive  \n",
    "- FN = False Negative\n"
   ]
  },
  {
   "cell_type": "code",
   "execution_count": 1,
   "id": "4d0a5264",
   "metadata": {},
   "outputs": [],
   "source": [
    "# Import libraries\n",
    "import pandas as pd\n",
    "import numpy as np\n",
    "import matplotlib.pyplot as plt\n",
    "import seaborn as sns\n",
    "from sklearn.model_selection import train_test_split\n",
    "from sklearn.naive_bayes import MultinomialNB\n",
    "from sklearn.metrics import confusion_matrix, classification_report, accuracy_score\n",
    "from sklearn.feature_extraction.text import CountVectorizer\n"
   ]
  },
  {
   "cell_type": "markdown",
   "id": "754c61fb",
   "metadata": {},
   "source": [
    "## Load SMS Spam Dataset\n"
   ]
  },
  {
   "cell_type": "code",
   "execution_count": 2,
   "id": "099bb633",
   "metadata": {},
   "outputs": [],
   "source": [
    "url = \"https://raw.githubusercontent.com/justmarkham/pycon-2016-tutorial/master/data/sms.tsv\"\n",
    "df = pd.read_csv(url, sep='\\t', header=None, names=['label','message'])\n",
    "\n",
    "# Basic preprocessing\n",
    "import string\n",
    "df['message_clean'] = df['message'].apply(lambda x: x.lower().translate(str.maketrans('', '', string.punctuation)))\n"
   ]
  },
  {
   "cell_type": "markdown",
   "id": "d84e42c8",
   "metadata": {},
   "source": [
    "## Feature Extraction & Train-Test Split\n"
   ]
  },
  {
   "cell_type": "code",
   "execution_count": 3,
   "id": "3b3d2f57",
   "metadata": {},
   "outputs": [],
   "source": [
    "cv = CountVectorizer()\n",
    "X = cv.fit_transform(df['message_clean'])\n",
    "y = df['label']\n",
    "\n",
    "X_train, X_test, y_train, y_test = train_test_split(X, y, test_size=0.2, random_state=42, stratify=y)\n"
   ]
  },
  {
   "cell_type": "markdown",
   "id": "b6611684",
   "metadata": {},
   "source": [
    "## Train Naive Bayes Classifier\n"
   ]
  },
  {
   "cell_type": "code",
   "execution_count": 4,
   "id": "b6dbeee6",
   "metadata": {},
   "outputs": [],
   "source": [
    "model = MultinomialNB()\n",
    "model.fit(X_train, y_train)\n",
    "y_pred = model.predict(X_test)\n"
   ]
  },
  {
   "cell_type": "markdown",
   "id": "dd4aa435",
   "metadata": {},
   "source": [
    "## Confusion Matrix\n"
   ]
  },
  {
   "cell_type": "code",
   "execution_count": 5,
   "id": "54ed88a4",
   "metadata": {},
   "outputs": [
    {
     "data": {
      "image/png": "[encoded data removed]",
      "text/plain": [
       "<Figure size 600x400 with 2 Axes>"
      ]
     },
     "metadata": {},
     "output_type": "display_data"
    }
   ],
   "source": [
    "cm = confusion_matrix(y_test, y_pred)\n",
    "plt.figure(figsize=(6,4))\n",
    "sns.heatmap(cm, annot=True, fmt='d', cmap=\"Blues\", xticklabels=['Ham','Spam'], yticklabels=['Ham','Spam'])\n",
    "plt.xlabel(\"Predicted\")\n",
    "plt.ylabel(\"Actual\")\n",
    "plt.title(\"Confusion Matrix\")\n",
    "plt.show()\n"
   ]
  },
  {
   "cell_type": "markdown",
   "id": "33f637a4",
   "metadata": {},
   "source": [
    "## Classification Report (Precision, Recall, F1-score)\n"
   ]
  },
  {
   "cell_type": "code",
   "execution_count": 6,
   "id": "522a31dd",
   "metadata": {},
   "outputs": [
    {
     "name": "stdout",
     "output_type": "stream",
     "text": [
      "Accuracy: 0.979372197309417\n",
      "\n",
      "Classification Report:\n",
      "\n",
      "              precision    recall  f1-score   support\n",
      "\n",
      "         ham       0.99      0.99      0.99       966\n",
      "        spam       0.91      0.93      0.92       149\n",
      "\n",
      "    accuracy                           0.98      1115\n",
      "   macro avg       0.95      0.96      0.96      1115\n",
      "weighted avg       0.98      0.98      0.98      1115\n",
      "\n"
     ]
    }
   ],
   "source": [
    "print(\"Accuracy:\", accuracy_score(y_test, y_pred))\n",
    "print(\"\\nClassification Report:\\n\")\n",
    "print(classification_report(y_test, y_pred))\n"
   ]
  },
  {
   "cell_type": "markdown",
   "id": "4c649935",
   "metadata": {},
   "source": [
    "## Manual Calculation Example\n"
   ]
  },
  {
   "cell_type": "code",
   "execution_count": 7,
   "id": "ba0ff774",
   "metadata": {},
   "outputs": [
    {
     "name": "stdout",
     "output_type": "stream",
     "text": [
      "TP=139, TN=953, FP=13, FN=10\n",
      "\n",
      "Manual Calculations:\n",
      "Accuracy=0.98, Precision=0.91, Recall=0.93, F1-score=0.92\n"
     ]
    }
   ],
   "source": [
    "# Extract TP, TN, FP, FN\n",
    "tn, fp, fn, tp = cm.ravel()\n",
    "print(f\"TP={tp}, TN={tn}, FP={fp}, FN={fn}\")\n",
    "\n",
    "precision = tp / (tp + fp)\n",
    "recall = tp / (tp + fn)\n",
    "f1 = 2 * (precision * recall) / (precision + recall)\n",
    "accuracy = (tp + tn) / (tp + tn + fp + fn)\n",
    "\n",
    "print(f\"\\nManual Calculations:\\nAccuracy={accuracy:.2f}, Precision={precision:.2f}, Recall={recall:.2f}, F1-score={f1:.2f}\")\n"
   ]
  },
  {
   "cell_type": "markdown",
   "id": "2e9357e2",
   "metadata": {},
   "source": [
    "### 🔑 Key Takeaways:\n",
    "- Confusion matrix gives a clear **visual of model performance**.\n",
    "- **Precision vs Recall** trade-off: high precision → fewer false positives, high recall → fewer false negatives.\n",
    "- F1-score balances precision and recall.\n",
    "- Always consider multiple metrics, not just accuracy, especially for **imbalanced datasets**.\n"
   ]
  }
 ],
 "metadata": {
  "kernelspec": {
   "display_name": "Python 3",
   "language": "python",
   "name": "python3"
  },
  "language_info": {
   "codemirror_mode": {
    "name": "ipython",
    "version": 3
   },
   "file_extension": ".py",
   "mimetype": "text/x-python",
   "name": "python",
   "nbconvert_exporter": "python",
   "pygments_lexer": "ipython3",
   "version": "3.11.9"
  }
 },
 "nbformat": 4,
 "nbformat_minor": 5
}
