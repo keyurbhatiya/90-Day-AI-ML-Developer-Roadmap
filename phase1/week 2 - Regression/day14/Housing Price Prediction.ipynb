{
 "cells": [
  {
   "cell_type": "markdown",
   "id": "0fdf284d",
   "metadata": {},
   "source": [
    "# Day 14: Mini Project – Housing Price Prediction\n",
    "\n",
    "We’ll use **Multiple Linear Regression** to predict housing prices.  \n",
    "\n",
    "---\n",
    "\n",
    "## Dataset\n",
    "Features:\n",
    "- `Rooms` → Number of rooms in the house  \n",
    "- `Area` → Area in square feet  \n",
    "- `Age` → Age of the house in years  \n",
    "\n",
    "Target:\n",
    "- `Price` → House price in ₹ (Lakhs)  \n",
    "\n",
    "---\n",
    "\n",
    "Goal: Train a model that predicts the **price** of a house based on its features.\n"
   ]
  },
  {
   "cell_type": "code",
   "execution_count": 1,
   "id": "3b2acaf7",
   "metadata": {},
   "outputs": [
    {
     "data": {
      "text/html": [
       "<div>\n",
       "<style scoped>\n",
       "    .dataframe tbody tr th:only-of-type {\n",
       "        vertical-align: middle;\n",
       "    }\n",
       "\n",
       "    .dataframe tbody tr th {\n",
       "        vertical-align: top;\n",
       "    }\n",
       "\n",
       "    .dataframe thead th {\n",
       "        text-align: right;\n",
       "    }\n",
       "</style>\n",
       "<table border=\"1\" class=\"dataframe\">\n",
       "  <thead>\n",
       "    <tr style=\"text-align: right;\">\n",
       "      <th></th>\n",
       "      <th>Rooms</th>\n",
       "      <th>Area</th>\n",
       "      <th>Age</th>\n",
       "      <th>Price</th>\n",
       "    </tr>\n",
       "  </thead>\n",
       "  <tbody>\n",
       "    <tr>\n",
       "      <th>0</th>\n",
       "      <td>2</td>\n",
       "      <td>1000</td>\n",
       "      <td>10</td>\n",
       "      <td>50</td>\n",
       "    </tr>\n",
       "    <tr>\n",
       "      <th>1</th>\n",
       "      <td>3</td>\n",
       "      <td>1500</td>\n",
       "      <td>15</td>\n",
       "      <td>65</td>\n",
       "    </tr>\n",
       "    <tr>\n",
       "      <th>2</th>\n",
       "      <td>4</td>\n",
       "      <td>2000</td>\n",
       "      <td>20</td>\n",
       "      <td>80</td>\n",
       "    </tr>\n",
       "    <tr>\n",
       "      <th>3</th>\n",
       "      <td>3</td>\n",
       "      <td>1800</td>\n",
       "      <td>8</td>\n",
       "      <td>70</td>\n",
       "    </tr>\n",
       "    <tr>\n",
       "      <th>4</th>\n",
       "      <td>5</td>\n",
       "      <td>2500</td>\n",
       "      <td>5</td>\n",
       "      <td>95</td>\n",
       "    </tr>\n",
       "    <tr>\n",
       "      <th>5</th>\n",
       "      <td>4</td>\n",
       "      <td>2300</td>\n",
       "      <td>12</td>\n",
       "      <td>85</td>\n",
       "    </tr>\n",
       "    <tr>\n",
       "      <th>6</th>\n",
       "      <td>6</td>\n",
       "      <td>3000</td>\n",
       "      <td>7</td>\n",
       "      <td>110</td>\n",
       "    </tr>\n",
       "    <tr>\n",
       "      <th>7</th>\n",
       "      <td>7</td>\n",
       "      <td>3500</td>\n",
       "      <td>3</td>\n",
       "      <td>130</td>\n",
       "    </tr>\n",
       "    <tr>\n",
       "      <th>8</th>\n",
       "      <td>3</td>\n",
       "      <td>1600</td>\n",
       "      <td>18</td>\n",
       "      <td>68</td>\n",
       "    </tr>\n",
       "    <tr>\n",
       "      <th>9</th>\n",
       "      <td>4</td>\n",
       "      <td>2100</td>\n",
       "      <td>14</td>\n",
       "      <td>90</td>\n",
       "    </tr>\n",
       "  </tbody>\n",
       "</table>\n",
       "</div>"
      ],
      "text/plain": [
       "   Rooms  Area  Age  Price\n",
       "0      2  1000   10     50\n",
       "1      3  1500   15     65\n",
       "2      4  2000   20     80\n",
       "3      3  1800    8     70\n",
       "4      5  2500    5     95\n",
       "5      4  2300   12     85\n",
       "6      6  3000    7    110\n",
       "7      7  3500    3    130\n",
       "8      3  1600   18     68\n",
       "9      4  2100   14     90"
      ]
     },
     "execution_count": 1,
     "metadata": {},
     "output_type": "execute_result"
    }
   ],
   "source": [
    "# Day 14: Housing Price Prediction (Mini Project)\n",
    "import pandas as pd\n",
    "import numpy as np\n",
    "import matplotlib.pyplot as plt\n",
    "from sklearn.model_selection import train_test_split\n",
    "from sklearn.linear_model import LinearRegression\n",
    "from sklearn.metrics import mean_squared_error, r2_score\n",
    "\n",
    "# Example dataset\n",
    "data = {\n",
    "    \"Rooms\": [2, 3, 4, 3, 5, 4, 6, 7, 3, 4],\n",
    "    \"Area\": [1000, 1500, 2000, 1800, 2500, 2300, 3000, 3500, 1600, 2100],\n",
    "    \"Age\":  [10, 15, 20, 8, 5, 12, 7, 3, 18, 14],\n",
    "    \"Price\": [50, 65, 80, 70, 95, 85, 110, 130, 68, 90]\n",
    "}\n",
    "\n",
    "df = pd.DataFrame(data)\n",
    "df\n"
   ]
  },
  {
   "cell_type": "code",
   "execution_count": 2,
   "id": "a977f558",
   "metadata": {},
   "outputs": [
    {
     "name": "stdout",
     "output_type": "stream",
     "text": [
      "Predicted Prices: [68.82289825 65.99435183 88.54512524]\n"
     ]
    }
   ],
   "source": [
    "# Features and target\n",
    "X = df[[\"Rooms\", \"Area\", \"Age\"]]\n",
    "y = df[\"Price\"]\n",
    "\n",
    "# Train/Test Split\n",
    "X_train, X_test, y_train, y_test = train_test_split(\n",
    "    X, y, test_size=0.3, random_state=42\n",
    ")\n",
    "\n",
    "# Train model\n",
    "model = LinearRegression()\n",
    "model.fit(X_train, y_train)\n",
    "\n",
    "# Predict\n",
    "y_pred = model.predict(X_test)\n",
    "\n",
    "print(\"Predicted Prices:\", y_pred)\n"
   ]
  },
  {
   "cell_type": "code",
   "execution_count": 3,
   "id": "091688fa",
   "metadata": {},
   "outputs": [
    {
     "name": "stdout",
     "output_type": "stream",
     "text": [
      "MSE: 4.744603350084375\n",
      "RMSE: 2.178211043513547\n",
      "R² Score: 0.9388231659731241\n"
     ]
    }
   ],
   "source": [
    "# Evaluation\n",
    "mse = mean_squared_error(y_test, y_pred)\n",
    "rmse = np.sqrt(mse)\n",
    "r2 = r2_score(y_test, y_pred)\n",
    "\n",
    "print(\"MSE:\", mse)\n",
    "print(\"RMSE:\", rmse)\n",
    "print(\"R² Score:\", r2)\n"
   ]
  },
  {
   "cell_type": "code",
   "execution_count": 13,
   "id": "27280c99",
   "metadata": {},
   "outputs": [
    {
     "name": "stdout",
     "output_type": "stream",
     "text": [
      "Predicted House Price: ₹94.26 Lakhs\n"
     ]
    }
   ],
   "source": [
    "# Predict price of a new house\n",
    "input_rooms = input(\"Enter number of rooms: \")\n",
    "input_area = input(\"Enter area in sq ft: \")\n",
    "input_age = input(\"Enter age of the house in years: \")\n",
    "\n",
    "rooms = int(input_rooms)\n",
    "area = int(input_area)\n",
    "age = int(input_age)\n",
    "\n",
    "new_house = pd.DataFrame({\n",
    "    \"Rooms\": [rooms],\n",
    "    \"Area\": [area],\n",
    "    \"Age\": [age]\n",
    "})\n",
    "\n",
    "predicted_price = model.predict(new_house)\n",
    "print(f\"Predicted House Price: ₹{predicted_price[0]:.2f} Lakhs\")\n"
   ]
  },
  {
   "cell_type": "markdown",
   "id": "46ef2607",
   "metadata": {},
   "source": [
    "### ✅ Key Learnings:\n",
    "- Applied **Multiple Linear Regression** on a practical dataset.  \n",
    "- Used `Rooms`, `Area`, and `Age` to predict house `Price`.  \n",
    "- Evaluated model with **MSE, RMSE, and R²**.  \n"
   ]
  }
 ],
 "metadata": {
  "kernelspec": {
   "display_name": "Python 3",
   "language": "python",
   "name": "python3"
  },
  "language_info": {
   "codemirror_mode": {
    "name": "ipython",
    "version": 3
   },
   "file_extension": ".py",
   "mimetype": "text/x-python",
   "name": "python",
   "nbconvert_exporter": "python",
   "pygments_lexer": "ipython3",
   "version": "3.11.9"
  }
 },
 "nbformat": 4,
 "nbformat_minor": 5
}
