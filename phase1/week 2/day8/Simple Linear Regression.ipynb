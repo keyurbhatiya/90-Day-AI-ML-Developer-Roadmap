{
 "cells": [
  {
   "cell_type": "markdown",
   "id": "f9c94b12",
   "metadata": {},
   "source": [
    "# Day 8: Simple Linear Regression\n",
    "\n",
    "In this lesson, we will learn:\n",
    "1. What is Linear Regression?\n",
    "2. The mathematical formula\n",
    "3. Implementing Linear Regression in Python\n",
    "4. Visualizing the regression line\n",
    "5. Making predictions"
   ]
  },
  {
   "cell_type": "markdown",
   "id": "6fbdc91c",
   "metadata": {},
   "source": [
    "## 1. What is Linear Regression?\n",
    "\n",
    "- Linear Regression is a **supervised machine learning algorithm** used to predict a continuous target variable.\n",
    "- It assumes a **linear relationship** between input `X` and output `Y`.\n",
    "\n",
    "### Formula:\n",
    "\\[Y = mX + c\\]\n",
    "\n",
    "Where:\n",
    "- \\(Y\\) = predicted value  \n",
    "- \\(m\\) = slope (coefficient)  \n",
    "- \\(c\\) = intercept  \n",
    "- \\(X\\) = independent variable"
   ]
  },
  {
   "cell_type": "code",
   "execution_count": 3,
   "id": "ef560e15",
   "metadata": {},
   "outputs": [],
   "source": [
    "# Import libraries\n",
    "import numpy as np\n",
    "import pandas as pd\n",
    "import matplotlib.pyplot as plt\n",
    "import seaborn as sns\n",
    "from sklearn.linear_model import LinearRegression"
   ]
  },
  {
   "cell_type": "markdown",
   "id": "3c2b7756",
   "metadata": {},
   "source": [
    "## 2. Example Dataset\n",
    "\n",
    "We’ll create a simple dataset: \"Hours studied vs. Exam Score\""
   ]
  },
  {
   "cell_type": "code",
   "execution_count": 4,
   "id": "b1720bb6",
   "metadata": {},
   "outputs": [
    {
     "data": {
      "text/html": [
       "<div>\n",
       "<style scoped>\n",
       "    .dataframe tbody tr th:only-of-type {\n",
       "        vertical-align: middle;\n",
       "    }\n",
       "\n",
       "    .dataframe tbody tr th {\n",
       "        vertical-align: top;\n",
       "    }\n",
       "\n",
       "    .dataframe thead th {\n",
       "        text-align: right;\n",
       "    }\n",
       "</style>\n",
       "<table border=\"1\" class=\"dataframe\">\n",
       "  <thead>\n",
       "    <tr style=\"text-align: right;\">\n",
       "      <th></th>\n",
       "      <th>Hours_Studied</th>\n",
       "      <th>Exam_Score</th>\n",
       "    </tr>\n",
       "  </thead>\n",
       "  <tbody>\n",
       "    <tr>\n",
       "      <th>0</th>\n",
       "      <td>1</td>\n",
       "      <td>20</td>\n",
       "    </tr>\n",
       "    <tr>\n",
       "      <th>1</th>\n",
       "      <td>2</td>\n",
       "      <td>25</td>\n",
       "    </tr>\n",
       "    <tr>\n",
       "      <th>2</th>\n",
       "      <td>3</td>\n",
       "      <td>35</td>\n",
       "    </tr>\n",
       "    <tr>\n",
       "      <th>3</th>\n",
       "      <td>4</td>\n",
       "      <td>40</td>\n",
       "    </tr>\n",
       "    <tr>\n",
       "      <th>4</th>\n",
       "      <td>5</td>\n",
       "      <td>50</td>\n",
       "    </tr>\n",
       "    <tr>\n",
       "      <th>5</th>\n",
       "      <td>6</td>\n",
       "      <td>60</td>\n",
       "    </tr>\n",
       "    <tr>\n",
       "      <th>6</th>\n",
       "      <td>7</td>\n",
       "      <td>65</td>\n",
       "    </tr>\n",
       "    <tr>\n",
       "      <th>7</th>\n",
       "      <td>8</td>\n",
       "      <td>70</td>\n",
       "    </tr>\n",
       "    <tr>\n",
       "      <th>8</th>\n",
       "      <td>9</td>\n",
       "      <td>80</td>\n",
       "    </tr>\n",
       "    <tr>\n",
       "      <th>9</th>\n",
       "      <td>10</td>\n",
       "      <td>85</td>\n",
       "    </tr>\n",
       "  </tbody>\n",
       "</table>\n",
       "</div>"
      ],
      "text/plain": [
       "   Hours_Studied  Exam_Score\n",
       "0              1          20\n",
       "1              2          25\n",
       "2              3          35\n",
       "3              4          40\n",
       "4              5          50\n",
       "5              6          60\n",
       "6              7          65\n",
       "7              8          70\n",
       "8              9          80\n",
       "9             10          85"
      ]
     },
     "execution_count": 4,
     "metadata": {},
     "output_type": "execute_result"
    }
   ],
   "source": [
    "# Sample Data\n",
    "data = {\n",
    "    \"Hours_Studied\": [1, 2, 3, 4, 5, 6, 7, 8, 9, 10],\n",
    "    \"Exam_Score\":    [20, 25, 35, 40, 50, 60, 65, 70, 80, 85]\n",
    "}\n",
    "\n",
    "df = pd.DataFrame(data)\n",
    "df"
   ]
  },
  {
   "cell_type": "markdown",
   "id": "6ab01d57",
   "metadata": {},
   "source": [
    "## 3. Visualize Dataset"
   ]
  },
  {
   "cell_type": "code",
   "execution_count": 5,
   "id": "83e18bbb",
   "metadata": {},
   "outputs": [
    {
     "data": {
      "image/png": "[encoded data removed]",
      "text/plain": [
       "<Figure size 700x500 with 1 Axes>"
      ]
     },
     "metadata": {},
     "output_type": "display_data"
    }
   ],
   "source": [
    "plt.figure(figsize=(7,5))\n",
    "sns.scatterplot(data=df, x=\"Hours_Studied\", y=\"Exam_Score\", color=\"blue\", s=80)\n",
    "plt.title(\"Hours Studied vs Exam Score\")\n",
    "plt.xlabel(\"Hours Studied\")\n",
    "plt.ylabel(\"Exam Score\")\n",
    "plt.show()"
   ]
  },
  {
   "cell_type": "markdown",
   "id": "cf3d83d4",
   "metadata": {},
   "source": [
    "## 4. Train Simple Linear Regression Model"
   ]
  },
  {
   "cell_type": "code",
   "execution_count": 6,
   "id": "e8daf632",
   "metadata": {},
   "outputs": [
    {
     "name": "stdout",
     "output_type": "stream",
     "text": [
      "Slope (m): 7.454545454545456\n",
      "Intercept (c): 11.999999999999993\n"
     ]
    }
   ],
   "source": [
    "# Define X (features) and y (target)\n",
    "X = df[[\"Hours_Studied\"]]  # must be 2D\n",
    "y = df[\"Exam_Score\"]\n",
    "\n",
    "# Create model\n",
    "model = LinearRegression()\n",
    "\n",
    "# Train (fit) model\n",
    "model.fit(X, y)\n",
    "\n",
    "# Get slope (m) and intercept (c)\n",
    "m = model.coef_[0]\n",
    "c = model.intercept_\n",
    "\n",
    "print(\"Slope (m):\", m)\n",
    "print(\"Intercept (c):\", c)"
   ]
  },
  {
   "cell_type": "markdown",
   "id": "d32ec7ce",
   "metadata": {},
   "source": [
    "## 5. Regression Line"
   ]
  },
  {
   "cell_type": "code",
   "execution_count": 7,
   "id": "27fbe7da",
   "metadata": {},
   "outputs": [
    {
     "data": {
      "image/png": "[encoded data removed]",
      "text/plain": [
       "<Figure size 700x500 with 1 Axes>"
      ]
     },
     "metadata": {},
     "output_type": "display_data"
    }
   ],
   "source": [
    "# Predictions\n",
    "y_pred = model.predict(X)\n",
    "\n",
    "# Plot scatter and regression line\n",
    "plt.figure(figsize=(7,5))\n",
    "plt.scatter(X, y, color=\"blue\", label=\"Actual Data\")\n",
    "plt.plot(X, y_pred, color=\"red\", label=\"Regression Line\")\n",
    "plt.title(\"Simple Linear Regression\")\n",
    "plt.xlabel(\"Hours Studied\")\n",
    "plt.ylabel(\"Exam Score\")\n",
    "plt.legend()\n",
    "plt.show()"
   ]
  },
  {
   "cell_type": "markdown",
   "id": "8cd1940a",
   "metadata": {},
   "source": [
    "## 6. Make Predictions\n",
    "\n",
    "Example: If a student studies for 7.8 hours, what will be the predicted score?"
   ]
  },
  {
   "cell_type": "code",
   "execution_count": 14,
   "id": "d65bbf4a",
   "metadata": {},
   "outputs": [
    {
     "name": "stdout",
     "output_type": "stream",
     "text": [
      "Predicted Score for 7.8 hours of study: 70.15\n"
     ]
    }
   ],
   "source": [
    "hours = pd.DataFrame({\"Hours_Studied\": [7.8]})\n",
    "predicted_score = model.predict(hours)\n",
    "print(f\"Predicted Score for 7.8 hours of study: {predicted_score[0]:.2f}\")"
   ]
  },
  {
   "cell_type": "markdown",
   "id": "eabc3b94",
   "metadata": {},
   "source": [
    "## 7. Key Insights\n",
    "- There is a positive linear relationship between hours studied and exam score.\n",
    "- Linear regression gives us a best-fit line to predict future outcomes.\n",
    "- Formula learned:  \n",
    "\\[\n",
    "Y = mX + c\n",
    "\\]"
   ]
  }
 ],
 "metadata": {
  "kernelspec": {
   "display_name": "Python 3",
   "language": "python",
   "name": "python3"
  },
  "language_info": {
   "codemirror_mode": {
    "name": "ipython",
    "version": 3
   },
   "file_extension": ".py",
   "mimetype": "text/x-python",
   "name": "python",
   "nbconvert_exporter": "python",
   "pygments_lexer": "ipython3",
   "version": "3.11.9"
  }
 },
 "nbformat": 4,
 "nbformat_minor": 5
}
