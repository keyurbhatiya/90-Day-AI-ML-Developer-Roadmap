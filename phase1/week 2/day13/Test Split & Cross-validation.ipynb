{
 "cells": [
  {
   "cell_type": "markdown",
   "id": "32b68d2f",
   "metadata": {},
   "source": [
    "# Day 13: Train/Test Split & Cross-validation\n",
    "\n",
    "When training ML models, we must test them on **unseen data** to check generalization.  \n",
    "\n",
    "---\n",
    "\n",
    "## 1. Train/Test Split\n",
    "- Splits dataset into:\n",
    "  - **Training set** → used to fit the model.\n",
    "  - **Test set** → used to evaluate model performance.\n",
    "- Common split = **70/30** or **80/20**.\n",
    "\n",
    "---\n",
    "\n",
    "## 2. Cross-validation (CV)\n",
    "- Instead of a single split, we divide data into **k folds**.\n",
    "- Train on (k-1) folds, test on 1 fold, repeat k times.\n",
    "- Average the results for a **more reliable performance estimate**.\n",
    "\n",
    "✅ Common: **k=5** or **k=10** → *k-Fold CV*."
   ]
  },
  {
   "cell_type": "code",
   "execution_count": 1,
   "id": "15a26392",
   "metadata": {},
   "outputs": [],
   "source": [
    "# Day 13: Train/Test Split & Cross-validation\n",
    "import pandas as pd\n",
    "from sklearn.model_selection import train_test_split, cross_val_score\n",
    "from sklearn.linear_model import LinearRegression\n",
    "from sklearn.metrics import mean_squared_error, r2_score\n",
    "import numpy as np\n",
    "\n",
    "# Sample dataset\n",
    "data = {\n",
    "    \"Hours_Studied\": [1,2,3,4,5,6,7,8,9,10],\n",
    "    \"Exam_Score\": [35,50,65,70,75,78,85,87,90,92]\n",
    "}\n",
    "df = pd.DataFrame(data)\n",
    "\n",
    "X = df[[\"Hours_Studied\"]]\n",
    "y = df[\"Exam_Score\"]\n"
   ]
  },
  {
   "cell_type": "code",
   "execution_count": 2,
   "id": "d18a6ec0",
   "metadata": {},
   "outputs": [
    {
     "name": "stdout",
     "output_type": "stream",
     "text": [
      "MSE (Test Set): 7.8587148318792215\n",
      "R² (Test Set): 0.9720219804244806\n"
     ]
    }
   ],
   "source": [
    "# 1. Train/Test Split\n",
    "X_train, X_test, y_train, y_test = train_test_split(\n",
    "    X, y, test_size=0.3, random_state=42\n",
    ")\n",
    "\n",
    "model = LinearRegression()\n",
    "model.fit(X_train, y_train)\n",
    "\n",
    "y_pred = model.predict(X_test)\n",
    "\n",
    "# Evaluation\n",
    "mse = mean_squared_error(y_test, y_pred)\n",
    "r2 = r2_score(y_test, y_pred)\n",
    "\n",
    "print(\"MSE (Test Set):\", mse)\n",
    "print(\"R² (Test Set):\", r2)\n"
   ]
  },
  {
   "cell_type": "code",
   "execution_count": 3,
   "id": "1a4d6855",
   "metadata": {},
   "outputs": [
    {
     "name": "stdout",
     "output_type": "stream",
     "text": [
      "Cross-validation R² Scores: [  -5.29482741  -12.07847222   -9.88679027   -8.40451389 -144.98901644]\n",
      "Average R² Score: -36.13072404676177\n"
     ]
    }
   ],
   "source": [
    "# 2. Cross-validation (5-Fold)\n",
    "scores = cross_val_score(model, X, y, cv=5, scoring=\"r2\")\n",
    "print(\"Cross-validation R² Scores:\", scores)\n",
    "print(\"Average R² Score:\", np.mean(scores))\n"
   ]
  },
  {
   "cell_type": "markdown",
   "id": "3258807c",
   "metadata": {},
   "source": [
    "### ✅ Key Points:\n",
    "- **Train/Test Split** gives quick evaluation but depends on split randomness.\n",
    "- **Cross-validation** provides a more reliable estimate of model performance.\n",
    "- Always use CV for **small datasets**.\n"
   ]
  }
 ],
 "metadata": {
  "kernelspec": {
   "display_name": "Python 3",
   "language": "python",
   "name": "python3"
  },
  "language_info": {
   "codemirror_mode": {
    "name": "ipython",
    "version": 3
   },
   "file_extension": ".py",
   "mimetype": "text/x-python",
   "name": "python",
   "nbconvert_exporter": "python",
   "pygments_lexer": "ipython3",
   "version": "3.11.9"
  }
 },
 "nbformat": 4,
 "nbformat_minor": 5
}
