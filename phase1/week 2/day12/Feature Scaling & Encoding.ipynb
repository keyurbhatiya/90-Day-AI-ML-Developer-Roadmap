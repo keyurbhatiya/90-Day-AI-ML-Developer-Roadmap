{
 "cells": [
  {
   "cell_type": "markdown",
   "id": "371005b5",
   "metadata": {},
   "source": [
    "# Day 12: Feature Scaling & Encoding\n",
    "\n",
    "Before training ML models, we often need to preprocess data so that all features are on \n",
    "a similar scale and categorical values are handled properly.\n",
    "\n",
    "---\n",
    "\n",
    "## 1. Feature Scaling  \n",
    "- Different features can have different units (e.g., Age in years, Salary in ₹).  \n",
    "- Models like KNN, Logistic Regression, Gradient Descent–based algorithms are **sensitive to scale**.  \n",
    "\n",
    "### Common Scaling Methods:\n",
    "- **Min-Max Scaling (Normalization):** Scales values between 0 and 1.  \n",
    "- **Standardization (Z-score):** Transforms data to have mean = 0 and std = 1.  \n",
    "\n",
    "---\n",
    "\n",
    "## 2. Encoding Categorical Data\n",
    "Machine learning models need **numerical input**.  \n",
    "We convert text labels into numbers.\n",
    "\n",
    "### Methods:\n",
    "- **Label Encoding:** Converts categories into numbers (e.g., Male=0, Female=1).  \n",
    "- **One-Hot Encoding:** Creates dummy variables (e.g., Red → [1,0,0], Blue → [0,1,0], Green → [0,0,1]).  "
   ]
  },
  {
   "cell_type": "code",
   "execution_count": 4,
   "id": "30d8576b",
   "metadata": {},
   "outputs": [
    {
     "data": {
      "text/html": [
       "<div>\n",
       "<style scoped>\n",
       "    .dataframe tbody tr th:only-of-type {\n",
       "        vertical-align: middle;\n",
       "    }\n",
       "\n",
       "    .dataframe tbody tr th {\n",
       "        vertical-align: top;\n",
       "    }\n",
       "\n",
       "    .dataframe thead th {\n",
       "        text-align: right;\n",
       "    }\n",
       "</style>\n",
       "<table border=\"1\" class=\"dataframe\">\n",
       "  <thead>\n",
       "    <tr style=\"text-align: right;\">\n",
       "      <th></th>\n",
       "      <th>Age</th>\n",
       "      <th>Salary</th>\n",
       "      <th>Gender</th>\n",
       "      <th>City</th>\n",
       "    </tr>\n",
       "  </thead>\n",
       "  <tbody>\n",
       "    <tr>\n",
       "      <th>0</th>\n",
       "      <td>18</td>\n",
       "      <td>20000</td>\n",
       "      <td>Male</td>\n",
       "      <td>Delhi</td>\n",
       "    </tr>\n",
       "    <tr>\n",
       "      <th>1</th>\n",
       "      <td>25</td>\n",
       "      <td>35000</td>\n",
       "      <td>Female</td>\n",
       "      <td>Mumbai</td>\n",
       "    </tr>\n",
       "    <tr>\n",
       "      <th>2</th>\n",
       "      <td>32</td>\n",
       "      <td>50000</td>\n",
       "      <td>Female</td>\n",
       "      <td>Delhi</td>\n",
       "    </tr>\n",
       "    <tr>\n",
       "      <th>3</th>\n",
       "      <td>40</td>\n",
       "      <td>70000</td>\n",
       "      <td>Male</td>\n",
       "      <td>Bangalore</td>\n",
       "    </tr>\n",
       "    <tr>\n",
       "      <th>4</th>\n",
       "      <td>50</td>\n",
       "      <td>100000</td>\n",
       "      <td>Female</td>\n",
       "      <td>Mumbai</td>\n",
       "    </tr>\n",
       "  </tbody>\n",
       "</table>\n",
       "</div>"
      ],
      "text/plain": [
       "   Age  Salary  Gender       City\n",
       "0   18   20000    Male      Delhi\n",
       "1   25   35000  Female     Mumbai\n",
       "2   32   50000  Female      Delhi\n",
       "3   40   70000    Male  Bangalore\n",
       "4   50  100000  Female     Mumbai"
      ]
     },
     "execution_count": 4,
     "metadata": {},
     "output_type": "execute_result"
    }
   ],
   "source": [
    "# Day 12: Feature Scaling & Encoding\n",
    "import pandas as pd\n",
    "from sklearn.preprocessing import StandardScaler, MinMaxScaler, LabelEncoder, OneHotEncoder\n",
    "\n",
    "# Example dataset\n",
    "data = {\n",
    "    \"Age\": [18, 25, 32, 40, 50],\n",
    "    \"Salary\": [20000, 35000, 50000, 70000, 100000],\n",
    "    \"Gender\": [\"Male\", \"Female\", \"Female\", \"Male\", \"Female\"],\n",
    "    \"City\": [\"Delhi\", \"Mumbai\", \"Delhi\", \"Bangalore\", \"Mumbai\"]\n",
    "}\n",
    "\n",
    "df = pd.DataFrame(data)\n",
    "df\n"
   ]
  },
  {
   "cell_type": "code",
   "execution_count": 5,
   "id": "7bc7b5dc",
   "metadata": {},
   "outputs": [
    {
     "name": "stdout",
     "output_type": "stream",
     "text": [
      "Standardized Data:\n",
      "        Age    Salary  Gender       City\n",
      "0 -1.338432 -1.253201    Male      Delhi\n",
      "1 -0.713831 -0.716115  Female     Mumbai\n",
      "2 -0.089229 -0.179029  Female      Delhi\n",
      "3  0.624602  0.537086    Male  Bangalore\n",
      "4  1.516890  1.611258  Female     Mumbai\n"
     ]
    }
   ],
   "source": [
    "# 1. Feature Scaling\n",
    "scaler = StandardScaler()\n",
    "df_scaled = df.copy()\n",
    "df_scaled[[\"Age\", \"Salary\"]] = scaler.fit_transform(df[[\"Age\", \"Salary\"]])\n",
    "\n",
    "print(\"Standardized Data:\")\n",
    "print(df_scaled)"
   ]
  },
  {
   "cell_type": "code",
   "execution_count": 6,
   "id": "da04ce6e",
   "metadata": {},
   "outputs": [
    {
     "name": "stdout",
     "output_type": "stream",
     "text": [
      "Min-Max Scaled Data:\n",
      "       Age  Salary  Gender       City\n",
      "0  0.00000  0.0000    Male      Delhi\n",
      "1  0.21875  0.1875  Female     Mumbai\n",
      "2  0.43750  0.3750  Female      Delhi\n",
      "3  0.68750  0.6250    Male  Bangalore\n",
      "4  1.00000  1.0000  Female     Mumbai\n"
     ]
    }
   ],
   "source": [
    "# Min-Max Scaling\n",
    "minmax = MinMaxScaler()\n",
    "df_minmax = df.copy()\n",
    "df_minmax[[\"Age\", \"Salary\"]] = minmax.fit_transform(df[[\"Age\", \"Salary\"]])\n",
    "\n",
    "print(\"Min-Max Scaled Data:\")\n",
    "print(df_minmax)"
   ]
  },
  {
   "cell_type": "code",
   "execution_count": 7,
   "id": "ed266120",
   "metadata": {},
   "outputs": [
    {
     "name": "stdout",
     "output_type": "stream",
     "text": [
      "Label Encoded Gender:\n",
      "   Age  Salary  Gender       City\n",
      "0   18   20000       1      Delhi\n",
      "1   25   35000       0     Mumbai\n",
      "2   32   50000       0      Delhi\n",
      "3   40   70000       1  Bangalore\n",
      "4   50  100000       0     Mumbai\n"
     ]
    }
   ],
   "source": [
    "# 2. Encoding - Label Encoding\n",
    "le = LabelEncoder()\n",
    "df_le = df.copy()\n",
    "df_le[\"Gender\"] = le.fit_transform(df[\"Gender\"])\n",
    "\n",
    "print(\"Label Encoded Gender:\")\n",
    "print(df_le)"
   ]
  },
  {
   "cell_type": "code",
   "execution_count": 8,
   "id": "9f3fdb18",
   "metadata": {},
   "outputs": [
    {
     "name": "stdout",
     "output_type": "stream",
     "text": [
      "One-Hot Encoded Data:\n",
      "   Age  Salary  Gender  City_Delhi  City_Mumbai\n",
      "0   18   20000    Male        True        False\n",
      "1   25   35000  Female       False         True\n",
      "2   32   50000  Female        True        False\n",
      "3   40   70000    Male       False        False\n",
      "4   50  100000  Female       False         True\n"
     ]
    }
   ],
   "source": [
    "# One-Hot Encoding for City\n",
    "df_ohe = pd.get_dummies(df, columns=[\"City\"], drop_first=True)  # drop_first avoids dummy variable trap\n",
    "print(\"One-Hot Encoded Data:\")\n",
    "print(df_ohe)"
   ]
  },
  {
   "cell_type": "markdown",
   "id": "2a1a8915",
   "metadata": {},
   "source": [
    "### ✅ Key Points:\n",
    "- Always **scale numerical features** when required (esp. for distance-based models).  \n",
    "- Use **Label Encoding** for binary categories (Male/Female).  \n",
    "- Use **One-Hot Encoding** for multi-category variables (City names).  "
   ]
  }
 ],
 "metadata": {
  "kernelspec": {
   "display_name": "Python 3",
   "language": "python",
   "name": "python3"
  },
  "language_info": {
   "codemirror_mode": {
    "name": "ipython",
    "version": 3
   },
   "file_extension": ".py",
   "mimetype": "text/x-python",
   "name": "python",
   "nbconvert_exporter": "python",
   "pygments_lexer": "ipython3",
   "version": "3.11.9"
  }
 },
 "nbformat": 4,
 "nbformat_minor": 5
}
